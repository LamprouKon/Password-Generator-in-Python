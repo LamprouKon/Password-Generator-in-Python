{
 "cells": [
  {
   "cell_type": "code",
   "execution_count": 3,
   "id": "4edcf7dd-fc37-4ca1-a876-1d877b580557",
   "metadata": {},
   "outputs": [],
   "source": [
    "import random\n",
    "import string"
   ]
  },
  {
   "cell_type": "code",
   "execution_count": 21,
   "id": "31e51bb5-dd82-4e0e-bf26-e21b11d8ecf7",
   "metadata": {},
   "outputs": [
    {
     "name": "stdin",
     "output_type": "stream",
     "text": [
      "Enter the minimun length:  21\n",
      "Do you want to have numbers (y/n)?  y\n",
      "Do you want to have special charachters (y/n)?  n\n"
     ]
    },
    {
     "name": "stdout",
     "output_type": "stream",
     "text": [
      "The generated password is: ixn0ITggCDEE3wSLXRMQq\n"
     ]
    }
   ],
   "source": [
    "def generate_password(min_length, numbers = True, special_charachters= True):\n",
    "    letters = string.ascii_letters\n",
    "    digits = string.digits\n",
    "    special = string.punctuation\n",
    "    \n",
    "    charachters = letters \n",
    "    if numbers:\n",
    "        charachters += digits\n",
    "    if special_charachters:\n",
    "        charachters += special\n",
    "\n",
    "\n",
    "    pwd = \"\"\n",
    "    meets_criteria = False\n",
    "    has_number =  False\n",
    "    has_special = False\n",
    "\n",
    "    while not meets_criteria or len(pwd) < min_length:\n",
    "        new_char = random.choice(charachters)\n",
    "        pwd += new_char\n",
    "        if new_char in digits:\n",
    "            has_number = True\n",
    "        elif new_char in special:\n",
    "            has_special = True\n",
    "            \n",
    "        meets_criteria = True\n",
    "        if numbers:\n",
    "            meets_criteria = has_number\n",
    "        if special_charachters:\n",
    "            meets_criteria = meets_criteria and has_special\n",
    "            \n",
    "    return pwd\n",
    "\n",
    "min_length = int(input(\"Enter the minimun length: \"))\n",
    "has_number = input(\"Do you want to have numbers (y/n)? \").lower() == \"y\"\n",
    "has_special = input(\"Do you want to have special charachters (y/n)? \").lower() == \"y\"\n",
    "\n",
    "pwd =generate_password(min_length,has_number,has_special)\n",
    "\n",
    "print(\"The generated password is:\", pwd)"
   ]
  },
  {
   "cell_type": "code",
   "execution_count": null,
   "id": "02de9eb5-f433-4f21-9db6-47abc623abf4",
   "metadata": {},
   "outputs": [],
   "source": []
  },
  {
   "cell_type": "code",
   "execution_count": null,
   "id": "7343bf0e-c91e-47f1-b1e5-b5fc7e4b6bd0",
   "metadata": {},
   "outputs": [],
   "source": []
  },
  {
   "cell_type": "code",
   "execution_count": null,
   "id": "a48ee5d3-dc92-4b53-b9fa-2f33ce4a9e91",
   "metadata": {},
   "outputs": [],
   "source": []
  },
  {
   "cell_type": "code",
   "execution_count": null,
   "id": "6ecffc9d-2233-4b63-a842-92c4a546b743",
   "metadata": {},
   "outputs": [],
   "source": []
  },
  {
   "cell_type": "code",
   "execution_count": null,
   "id": "50ab8412-ba16-42cc-96df-74f64853e0e9",
   "metadata": {},
   "outputs": [],
   "source": []
  },
  {
   "cell_type": "code",
   "execution_count": null,
   "id": "f36168b2-f0a2-440c-9b3c-3fc2f98f5229",
   "metadata": {},
   "outputs": [],
   "source": []
  },
  {
   "cell_type": "code",
   "execution_count": null,
   "id": "278cde59-f7eb-4f2c-b8dd-59f0200f8195",
   "metadata": {},
   "outputs": [],
   "source": []
  }
 ],
 "metadata": {
  "kernelspec": {
   "display_name": "Python 3 (ipykernel)",
   "language": "python",
   "name": "python3"
  },
  "language_info": {
   "codemirror_mode": {
    "name": "ipython",
    "version": 3
   },
   "file_extension": ".py",
   "mimetype": "text/x-python",
   "name": "python",
   "nbconvert_exporter": "python",
   "pygments_lexer": "ipython3",
   "version": "3.11.5"
  }
 },
 "nbformat": 4,
 "nbformat_minor": 5
}
